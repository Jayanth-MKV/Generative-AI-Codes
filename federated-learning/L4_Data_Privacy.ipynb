{
 "cells": [
  {
   "cell_type": "markdown",
   "id": "7292677e",
   "metadata": {},
   "source": [
    "# Lesson 4: Data Privacy"
   ]
  },
  {
   "cell_type": "markdown",
   "id": "ef8e93b3",
   "metadata": {},
   "source": [
    "Welcome to Lesson 4!\n",
    "\n",
    "To access the `requirements.txt` and `utils4.py` file for this course, go to `File` and click `Open`."
   ]
  },
  {
   "cell_type": "markdown",
   "id": "2a78489d",
   "metadata": {},
   "source": [
    "#### 1. Load imports"
   ]
  },
  {
   "cell_type": "code",
   "execution_count": 1,
   "id": "58a8f229-c293-4321-9c0c-cd2676bb9a33",
   "metadata": {
    "height": 149
   },
   "outputs": [],
   "source": [
    "from flwr.client.mod import adaptiveclipping_mod\n",
    "from flwr.server.strategy import (\n",
    "    DifferentialPrivacyClientSideAdaptiveClipping,\n",
    "    FedAvg,\n",
    ")\n",
    "\n",
    "from utils4 import *"
   ]
  },
  {
   "cell_type": "markdown",
   "id": "7ee88090",
   "metadata": {},
   "source": [
    "#### 2. Load the MNIST dataset"
   ]
  },
  {
   "cell_type": "markdown",
   "id": "5eb0f3f1",
   "metadata": {},
   "source": [
    "* Use `flwr-datasets` that provides with a Federated Dataset abstraction."
   ]
  },
  {
   "cell_type": "code",
   "execution_count": 2,
   "id": "1d9cd2e2-0581-43c9-aafb-ab9d0c8af6f8",
   "metadata": {
    "height": 217
   },
   "outputs": [],
   "source": [
    "def load_data(partition_id):\n",
    "    fds = FederatedDataset(dataset=\"mnist\", partitioners={\"train\": 10})\n",
    "    partition = fds.load_partition(partition_id)\n",
    "\n",
    "    traintest = partition.train_test_split(test_size=0.2, seed=42)\n",
    "    traintest = traintest.with_transform(normalize)\n",
    "    trainset, testset = traintest[\"train\"], traintest[\"test\"]\n",
    "\n",
    "    trainloader = DataLoader(trainset, batch_size=64, shuffle=True)\n",
    "    testloader = DataLoader(testset, batch_size=64)\n",
    "    return trainloader, testloader"
   ]
  },
  {
   "cell_type": "markdown",
   "id": "84cad9d9",
   "metadata": {},
   "source": [
    "#### 3. Define the Model"
   ]
  },
  {
   "cell_type": "markdown",
   "id": "aa8abe99",
   "metadata": {},
   "source": [
    "* Define the FlowerClient."
   ]
  },
  {
   "cell_type": "code",
   "execution_count": 3,
   "id": "4da8c4f5-3edb-4017-8d6f-7160c3b51858",
   "metadata": {
    "height": 404
   },
   "outputs": [],
   "source": [
    "class FlowerClient(NumPyClient):\n",
    "    def __init__(self, net, trainloader, testloader):\n",
    "        self.net = net\n",
    "        self.trainloader = trainloader\n",
    "        self.testloader = testloader\n",
    "\n",
    "    def fit(self, parameters, config):\n",
    "        set_weights(self.net, parameters)\n",
    "        train_model(self.net, self.trainloader)\n",
    "        return get_weights(self.net), len(self.trainloader), {}\n",
    "\n",
    "    def evaluate(self, parameters, config):\n",
    "        set_weights(self.net, parameters)\n",
    "        loss, accuracy = evaluate_model(self.net, self.testloader)\n",
    "        return loss, len(self.testloader), {\"accuracy\": accuracy}\n",
    "\n",
    "\n",
    "def client_fn(context: Context) -> Client:\n",
    "    net = SimpleModel()\n",
    "    partition_id = int(context.node_config[\"partition-id\"])\n",
    "    trainloader, testloader = load_data(partition_id=partition_id)\n",
    "    return FlowerClient(net, trainloader, testloader).to_client()"
   ]
  },
  {
   "cell_type": "markdown",
   "id": "504a5f54",
   "metadata": {},
   "source": [
    "* Define the ClientApp."
   ]
  },
  {
   "cell_type": "code",
   "execution_count": 4,
   "id": "ec5473fc-585b-41ed-9ff8-6aaf5592a30b",
   "metadata": {
    "height": 98
   },
   "outputs": [],
   "source": [
    "client = ClientApp(\n",
    "    client_fn,\n",
    "    mods=[adaptiveclipping_mod],  # modifiers\n",
    ")"
   ]
  },
  {
   "cell_type": "markdown",
   "id": "64f661ed",
   "metadata": {},
   "source": [
    "* Define the Server side with the strategy FedAvg.\n",
    "\n",
    "**DP:** Differential Privacy."
   ]
  },
  {
   "cell_type": "code",
   "execution_count": 5,
   "id": "6b8f147a-9cb0-4ed9-b635-4106e93a0f7f",
   "metadata": {
    "height": 421
   },
   "outputs": [],
   "source": [
    "net = SimpleModel()\n",
    "params = ndarrays_to_parameters(get_weights(net))\n",
    "\n",
    "def server_fn(context: Context):\n",
    "    fedavg_without_dp = FedAvg(\n",
    "        fraction_fit=0.6,\n",
    "        fraction_evaluate=1.0,\n",
    "        initial_parameters=params,\n",
    "    )\n",
    "    fedavg_with_dp = DifferentialPrivacyClientSideAdaptiveClipping(\n",
    "        fedavg_without_dp,  # <- wrap the FedAvg strategy\n",
    "        noise_multiplier=0.3,\n",
    "        num_sampled_clients=6,\n",
    "    )\n",
    "    \n",
    "    # Adjust to 50 rounds to ensure DP guarantees hold\n",
    "    # with respect to the desired privacy budget\n",
    "    config = ServerConfig(num_rounds=5)\n",
    "    \n",
    "    return ServerAppComponents(\n",
    "        strategy=fedavg_with_dp,\n",
    "        config=config,\n",
    "    )"
   ]
  },
  {
   "cell_type": "code",
   "execution_count": 6,
   "id": "277e575f-582c-489a-9bee-d660ef88a4c4",
   "metadata": {
    "height": 30
   },
   "outputs": [],
   "source": [
    "server = ServerApp(server_fn=server_fn)"
   ]
  },
  {
   "cell_type": "markdown",
   "id": "29d25e55",
   "metadata": {},
   "source": [
    "* Run Client and Server apps."
   ]
  },
  {
   "cell_type": "markdown",
   "id": "43e4ab42-4b35-4fb7-9cb4-f45ca5919596",
   "metadata": {},
   "source": [
    "**Note**: This simulation may take approximately 7 to 10 minutes to complete all 50 rounds. "
   ]
  },
  {
   "cell_type": "code",
   "execution_count": null,
   "id": "9057d6fe-7f7e-41fd-8312-7e4b7bc44189",
   "metadata": {
    "height": 115
   },
   "outputs": [
    {
     "name": "stderr",
     "output_type": "stream",
     "text": [
      "\u001b[92mINFO \u001b[0m: Starting Flower ServerApp, config: num_rounds=5, no round_timeout\n",
      "\u001b[92mINFO \u001b[0m: \n",
      "\u001b[92mINFO \u001b[0m: [INIT]\n",
      "\u001b[92mINFO \u001b[0m: Using initial global parameters provided by strategy\n",
      "\u001b[92mINFO \u001b[0m: Evaluating initial global parameters\n",
      "\u001b[92mINFO \u001b[0m: \n",
      "\u001b[92mINFO \u001b[0m: [ROUND 1]\n",
      "\u001b[92mINFO \u001b[0m: configure_fit: strategy sampled 6 clients (out of 10)\n",
      "Downloading builder script: 100%|██████████| 3.98k/3.98k [00:00<00:00, 29.4MB/s]\n",
      "Downloading readme: 100%|██████████| 6.83k/6.83k [00:00<00:00, 38.8MB/s]\n",
      "Downloading data:   0%|          | 0.00/9.91M [00:00<?, ?B/s]\n",
      "Downloading data: 100%|██████████| 9.91M/9.91M [00:00<00:00, 96.2MB/s]\n",
      "Downloading data: 100%|██████████| 28.9k/28.9k [00:00<00:00, 15.4MB/s]\n",
      "Downloading data: 100%|██████████| 1.65M/1.65M [00:00<00:00, 59.9MB/s]\n",
      "Downloading data: 100%|██████████| 4.54k/4.54k [00:00<00:00, 24.8MB/s]\n",
      "Generating train split:   0%|          | 0/60000 [00:00<?, ? examples/s]\n",
      "Generating train split:   1%|          | 426/60000 [00:00<00:14, 4037.21 examples/s]\n",
      "Generating train split:   2%|▏         | 1221/60000 [00:00<00:09, 6282.42 examples/s]\n",
      "Generating train split:   3%|▎         | 2051/60000 [00:00<00:08, 7188.09 examples/s]\n",
      "Generating train split:   5%|▍         | 2902/60000 [00:00<00:07, 7702.92 examples/s]\n",
      "Generating train split:   6%|▌         | 3736/60000 [00:00<00:07, 7930.96 examples/s]\n",
      "Generating train split:   8%|▊         | 4571/60000 [00:00<00:06, 8069.72 examples/s]\n",
      "Generating train split:   9%|▉         | 5400/60000 [00:00<00:06, 8137.76 examples/s]\n",
      "Generating train split:  10%|█         | 6232/60000 [00:00<00:06, 8192.92 examples/s]\n",
      "Generating train split:  12%|█▏        | 7064/60000 [00:00<00:06, 8230.56 examples/s]\n",
      "Generating train split:  13%|█▎        | 7932/60000 [00:01<00:06, 8367.77 examples/s]\n",
      "Generating train split:  15%|█▌        | 9162/60000 [00:01<00:06, 8296.34 examples/s]\n",
      "Generating train split:  17%|█▋        | 10000/60000 [00:01<00:06, 8308.47 examples/s]\n",
      "Generating train split:  18%|█▊        | 10856/60000 [00:01<00:05, 8374.71 examples/s]\n",
      "Generating train split:  20%|██        | 12101/60000 [00:01<00:05, 8343.13 examples/s]\n",
      "Generating train split:  22%|██▏       | 12957/60000 [00:01<00:05, 8398.28 examples/s]\n",
      "Generating train split:  24%|██▎       | 14194/60000 [00:01<00:05, 8340.29 examples/s]\n",
      "Generating train split:  25%|██▌       | 15035/60000 [00:01<00:05, 8355.91 examples/s]\n",
      "Generating train split:  26%|██▋       | 15898/60000 [00:01<00:05, 8426.84 examples/s]\n",
      "Generating train split:  29%|██▊       | 17141/60000 [00:02<00:05, 8370.26 examples/s]\n",
      "Generating train split:  30%|███       | 18000/60000 [00:02<00:05, 8371.34 examples/s]\n",
      "Generating train split:  31%|███▏      | 18867/60000 [00:02<00:04, 8449.53 examples/s]\n",
      "Generating train split:  33%|███▎      | 20098/60000 [00:02<00:04, 8358.40 examples/s]\n",
      "Generating train split:  35%|███▍      | 20958/60000 [00:02<00:04, 8417.39 examples/s]\n",
      "Generating train split:  37%|███▋      | 22194/60000 [00:02<00:04, 8351.12 examples/s]\n",
      "Generating train split:  39%|███▉      | 23459/60000 [00:02<00:04, 8376.69 examples/s]\n",
      "Generating train split:  41%|████      | 24723/60000 [00:03<00:04, 8388.77 examples/s]\n",
      "Generating train split:  43%|████▎     | 25997/60000 [00:03<00:04, 8418.89 examples/s]\n",
      "Generating train split:  45%|████▌     | 27240/60000 [00:03<00:03, 8375.54 examples/s]\n",
      "Generating train split:  48%|████▊     | 28503/60000 [00:03<00:03, 8385.04 examples/s]\n",
      "Generating train split:  50%|████▉     | 29765/60000 [00:03<00:03, 8389.77 examples/s]\n",
      "Generating train split:  51%|█████     | 30605/60000 [00:03<00:03, 8388.31 examples/s]\n",
      "Generating train split:  52%|█████▏    | 31445/60000 [00:03<00:03, 8390.11 examples/s]\n",
      "Generating train split:  55%|█████▍    | 32710/60000 [00:03<00:03, 8401.50 examples/s]\n",
      "Generating train split:  57%|█████▋    | 33971/60000 [00:04<00:03, 8398.47 examples/s]\n",
      "Generating train split:  59%|█████▊    | 35211/60000 [00:04<00:02, 8350.32 examples/s]\n",
      "Generating train split:  61%|██████    | 36471/60000 [00:04<00:02, 8362.66 examples/s]\n",
      "Generating train split:  63%|██████▎   | 37731/60000 [00:04<00:02, 8371.63 examples/s]\n",
      "Generating train split:  65%|██████▍   | 38993/60000 [00:04<00:02, 8379.91 examples/s]\n",
      "Generating train split:  66%|██████▋   | 39832/60000 [00:04<00:02, 8379.27 examples/s]\n",
      "Generating train split:  68%|██████▊   | 41077/60000 [00:04<00:02, 8351.11 examples/s]\n",
      "Generating train split:  70%|██████▉   | 41940/60000 [00:05<00:02, 8415.82 examples/s]\n",
      "Generating train split:  72%|███████▏  | 43173/60000 [00:05<00:02, 8349.10 examples/s]\n",
      "Generating train split:  74%|███████▍  | 44435/60000 [00:05<00:01, 8368.31 examples/s]\n",
      "Generating train split:  76%|███████▌  | 45700/60000 [00:05<00:01, 8383.69 examples/s]\n",
      "Generating train split:  78%|███████▊  | 46962/60000 [00:05<00:01, 8388.07 examples/s]\n",
      "Generating train split:  80%|████████  | 48204/60000 [00:05<00:01, 8352.04 examples/s]\n",
      "Generating train split:  82%|████████▏ | 49465/60000 [00:05<00:01, 8365.58 examples/s]\n",
      "Generating train split:  85%|████████▍ | 50723/60000 [00:06<00:01, 8368.62 examples/s]\n",
      "Generating train split:  87%|████████▋ | 51982/60000 [00:06<00:00, 8372.42 examples/s]\n",
      "Generating train split:  88%|████████▊ | 52821/60000 [00:06<00:00, 8373.54 examples/s]\n",
      "Generating train split:  90%|█████████ | 54055/60000 [00:06<00:00, 8322.22 examples/s]\n",
      "Generating train split:  92%|█████████▏| 54913/60000 [00:06<00:00, 8380.99 examples/s]\n",
      "Generating train split:  94%|█████████▎| 56147/60000 [00:06<00:00, 8325.50 examples/s]\n",
      "Generating train split:  95%|█████████▌| 57000/60000 [00:06<00:00, 8337.45 examples/s]\n",
      "Generating train split:  96%|█████████▋| 57857/60000 [00:06<00:00, 8393.13 examples/s]\n",
      "Generating train split:  98%|█████████▊| 59088/60000 [00:07<00:00, 8322.51 examples/s]\n",
      "Generating train split: 100%|██████████| 60000/60000 [00:07<00:00, 8299.76 examples/s]\n",
      "Generating test split:   0%|          | 0/10000 [00:00<?, ? examples/s]\n",
      "Generating test split:   8%|▊         | 814/10000 [00:00<00:01, 8115.53 examples/s]\n",
      "Generating test split:  16%|█▋        | 1647/10000 [00:00<00:01, 8237.65 examples/s]\n",
      "Generating test split:  25%|██▍       | 2491/10000 [00:00<00:00, 8323.57 examples/s]\n",
      "Generating test split:  33%|███▎      | 3329/10000 [00:00<00:00, 8341.70 examples/s]\n",
      "Generating test split:  46%|████▌     | 4596/10000 [00:00<00:00, 8384.79 examples/s]\n",
      "Generating test split:  59%|█████▊    | 5860/10000 [00:00<00:00, 8399.02 examples/s]\n",
      "Generating test split:  71%|███████   | 7089/10000 [00:00<00:00, 8322.96 examples/s]\n",
      "Generating test split:  79%|███████▉  | 7943/10000 [00:00<00:00, 8375.24 examples/s]\n",
      "Generating test split:  92%|█████████▏| 9164/10000 [00:01<00:00, 8286.14 examples/s]\n",
      "Generating test split: 100%|██████████| 10000/10000 [00:01<00:00, 8316.45 examples/s]\n",
      "\u001b[2m\u001b[36m(ClientAppActor pid=494)\u001b[0m \u001b[92mINFO \u001b[0m: adaptiveclipping_mod: parameters are clipped by value: 0.1000.\n",
      "\u001b[92mINFO \u001b[0m: aggregate_fit: received 6 results and 0 failures\n",
      "\u001b[92mINFO \u001b[0m: aggregate_fit: central DP noise with 0.0051 stdev added\n",
      "\u001b[92mINFO \u001b[0m: configure_evaluate: strategy sampled 10 clients (out of 10)\n",
      "\u001b[92mINFO \u001b[0m: aggregate_evaluate: received 10 results and 0 failures\n",
      "\u001b[92mINFO \u001b[0m: \n",
      "\u001b[92mINFO \u001b[0m: [ROUND 2]\n",
      "\u001b[92mINFO \u001b[0m: configure_fit: strategy sampled 6 clients (out of 10)\n",
      "\u001b[2m\u001b[36m(ClientAppActor pid=496)\u001b[0m \u001b[92mINFO \u001b[0m: adaptiveclipping_mod: parameters are clipped by value: 0.0883.\u001b[32m [repeated 6x across cluster] (Ray deduplicates logs by default. Set RAY_DEDUP_LOGS=0 to disable log deduplication, or see https://docs.ray.io/en/master/ray-observability/ray-logging.html#log-deduplication for more options.)\u001b[0m\n",
      "\u001b[92mINFO \u001b[0m: aggregate_fit: received 6 results and 0 failures\n",
      "\u001b[92mINFO \u001b[0m: aggregate_fit: central DP noise with 0.0046 stdev added\n",
      "\u001b[92mINFO \u001b[0m: configure_evaluate: strategy sampled 10 clients (out of 10)\n",
      "\u001b[92mINFO \u001b[0m: aggregate_evaluate: received 10 results and 0 failures\n",
      "\u001b[92mINFO \u001b[0m: \n",
      "\u001b[92mINFO \u001b[0m: [ROUND 3]\n",
      "\u001b[92mINFO \u001b[0m: configure_fit: strategy sampled 6 clients (out of 10)\n",
      "\u001b[2m\u001b[36m(ClientAppActor pid=495)\u001b[0m \u001b[92mINFO \u001b[0m: adaptiveclipping_mod: parameters are clipped by value: 0.0792.\u001b[32m [repeated 6x across cluster]\u001b[0m\n"
     ]
    },
    {
     "name": "stderr",
     "output_type": "stream",
     "text": [
      "\u001b[92mINFO \u001b[0m: aggregate_fit: received 6 results and 0 failures\n",
      "\u001b[92mINFO \u001b[0m: aggregate_fit: central DP noise with 0.0042 stdev added\n",
      "\u001b[92mINFO \u001b[0m: configure_evaluate: strategy sampled 10 clients (out of 10)\n",
      "\u001b[92mINFO \u001b[0m: aggregate_evaluate: received 10 results and 0 failures\n",
      "\u001b[92mINFO \u001b[0m: \n",
      "\u001b[92mINFO \u001b[0m: [ROUND 4]\n",
      "\u001b[92mINFO \u001b[0m: configure_fit: strategy sampled 6 clients (out of 10)\n"
     ]
    }
   ],
   "source": [
    "run_simulation(server_app=server,\n",
    "               client_app=client,\n",
    "               num_supernodes=10,\n",
    "               backend_config=backend_setup\n",
    "               )"
   ]
  }
 ],
 "metadata": {
  "kernelspec": {
   "display_name": "Python 3 (ipykernel)",
   "language": "python",
   "name": "python3"
  },
  "language_info": {
   "codemirror_mode": {
    "name": "ipython",
    "version": 3
   },
   "file_extension": ".py",
   "mimetype": "text/x-python",
   "name": "python",
   "nbconvert_exporter": "python",
   "pygments_lexer": "ipython3",
   "version": "3.11.9"
  }
 },
 "nbformat": 4,
 "nbformat_minor": 5
}
