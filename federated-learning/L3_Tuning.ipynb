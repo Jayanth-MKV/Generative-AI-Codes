{
 "cells": [
  {
   "cell_type": "markdown",
   "id": "f3d078a4",
   "metadata": {},
   "source": [
    "# Lesson 3: Tuning"
   ]
  },
  {
   "cell_type": "markdown",
   "id": "ce5574dc",
   "metadata": {},
   "source": [
    "Welcome to Lesson 3!\n",
    "\n",
    "To access the `requirements.txt` and `utils3.py` file for this course, go to `File` and click `Open`."
   ]
  },
  {
   "cell_type": "markdown",
   "id": "299f72bd",
   "metadata": {},
   "source": [
    "#### 1. Load imports"
   ]
  },
  {
   "cell_type": "code",
   "execution_count": 1,
   "id": "f8fe96c1-bb30-4a44-860a-98ec4326e74f",
   "metadata": {
    "height": 149
   },
   "outputs": [],
   "source": [
    "from flwr.client import Client, ClientApp, NumPyClient\n",
    "from flwr.server import ServerApp, ServerConfig\n",
    "from flwr.server.strategy import FedAvg\n",
    "from flwr.simulation import run_simulation\n",
    "from flwr_datasets import FederatedDataset\n",
    "\n",
    "from utils3 import *"
   ]
  },
  {
   "cell_type": "markdown",
   "id": "827e9149",
   "metadata": {},
   "source": [
    "#### 2. Prepare the datasets"
   ]
  },
  {
   "cell_type": "markdown",
   "id": "c127d303",
   "metadata": {},
   "source": [
    "* Prepare data using Flower Datasets.\n",
    "\n",
    "Use `flwr-datasets` that provides with a Federated Dataset abstraction."
   ]
  },
  {
   "cell_type": "code",
   "execution_count": 2,
   "id": "07bf7905-111d-4cdc-9f65-9883b8ccf393",
   "metadata": {
    "height": 217
   },
   "outputs": [],
   "source": [
    "def load_data(partition_id):\n",
    "    fds = FederatedDataset(dataset=\"mnist\", partitioners={\"train\": 5})\n",
    "    partition = fds.load_partition(partition_id)\n",
    "\n",
    "    traintest = partition.train_test_split(test_size=0.2, seed=42)\n",
    "    traintest = traintest.with_transform(normalize)\n",
    "    trainset, testset = traintest[\"train\"], traintest[\"test\"]\n",
    "\n",
    "    trainloader = DataLoader(trainset, batch_size=64, shuffle=True)\n",
    "    testloader = DataLoader(testset, batch_size=64)\n",
    "    return trainloader, testloader"
   ]
  },
  {
   "cell_type": "markdown",
   "id": "7905e136",
   "metadata": {},
   "source": [
    "#### 3. Clients configuration"
   ]
  },
  {
   "cell_type": "markdown",
   "id": "68400707",
   "metadata": {},
   "source": [
    "* Define fit_config.\n",
    "\n",
    "Flower can send configuration values to clients."
   ]
  },
  {
   "cell_type": "code",
   "execution_count": 3,
   "id": "16125466-5b8b-4c57-956c-542cd0b8f4a2",
   "metadata": {
    "height": 115
   },
   "outputs": [],
   "source": [
    "def fit_config(server_round: int):\n",
    "    config_dict = {\n",
    "        \"local_epochs\": 2 if server_round < 3 else 5,\n",
    "    }\n",
    "    return config_dict"
   ]
  },
  {
   "cell_type": "markdown",
   "id": "5eadf6e5",
   "metadata": {},
   "source": [
    "* The FedAvg strategy in the Server Function."
   ]
  },
  {
   "cell_type": "code",
   "execution_count": 4,
   "id": "a09f1649-c5d8-44d1-9777-0270f2864723",
   "metadata": {
    "height": 285
   },
   "outputs": [],
   "source": [
    "net = SimpleModel()\n",
    "params = ndarrays_to_parameters(get_weights(net))\n",
    "\n",
    "def server_fn(context: Context):\n",
    "    strategy = FedAvg(\n",
    "        min_fit_clients=5,\n",
    "        fraction_evaluate=0.0,\n",
    "        initial_parameters=params,\n",
    "        on_fit_config_fn=fit_config,  # <- NEW\n",
    "    )\n",
    "    config=ServerConfig(num_rounds=3)\n",
    "    return ServerAppComponents(\n",
    "        strategy=strategy,\n",
    "        config=config,\n",
    "    )"
   ]
  },
  {
   "cell_type": "markdown",
   "id": "a6da428f",
   "metadata": {},
   "source": [
    "* Define an instance of ServerApp."
   ]
  },
  {
   "cell_type": "code",
   "execution_count": 5,
   "id": "30e24c28-4420-4432-9cbd-ab0773215c36",
   "metadata": {
    "height": 30
   },
   "outputs": [],
   "source": [
    "server = ServerApp(server_fn=server_fn)"
   ]
  },
  {
   "cell_type": "markdown",
   "id": "a75c3feb",
   "metadata": {},
   "source": [
    "* Define FlowerClient.\n",
    "\n",
    "The client side receives the configuration dictionary in the `fit` method."
   ]
  },
  {
   "cell_type": "code",
   "execution_count": 6,
   "id": "0918d659-8c35-4cf8-a2fb-aaa0e8475fde",
   "metadata": {
    "height": 353
   },
   "outputs": [],
   "source": [
    "class FlowerClient(NumPyClient):\n",
    "    def __init__(self, net, trainloader, testloader):\n",
    "        self.net = net\n",
    "        self.trainloader = trainloader\n",
    "        self.testloader = testloader\n",
    "\n",
    "    def fit(self, parameters, config):\n",
    "        set_weights(self.net, parameters)\n",
    "\n",
    "        epochs = config[\"local_epochs\"]\n",
    "        log(INFO, f\"client trains for {epochs} epochs\")\n",
    "        train_model(self.net, self.trainloader, epochs)\n",
    "\n",
    "        return get_weights(self.net), len(self.trainloader), {}\n",
    "\n",
    "    def evaluate(self, parameters, config):\n",
    "        set_weights(self.net, parameters)\n",
    "        loss, accuracy = evaluate_model(self.net, self.testloader)\n",
    "        return loss, len(self.testloader), {\"accuracy\": accuracy}"
   ]
  },
  {
   "cell_type": "markdown",
   "id": "0edac892",
   "metadata": {},
   "source": [
    "* Create the Client Function and the Client App."
   ]
  },
  {
   "cell_type": "code",
   "execution_count": 7,
   "id": "79093643-032d-41b3-a544-dab4362acaac",
   "metadata": {
    "height": 166
   },
   "outputs": [],
   "source": [
    "def client_fn(context: Context) -> Client:\n",
    "    net = SimpleModel()\n",
    "    partition_id = int(context.node_config[\"partition-id\"])\n",
    "    trainloader, testloader = load_data(partition_id=partition_id)\n",
    "    return FlowerClient(net, trainloader, testloader).to_client()\n",
    "\n",
    "\n",
    "client = ClientApp(client_fn)"
   ]
  },
  {
   "cell_type": "markdown",
   "id": "6fb8b07a",
   "metadata": {},
   "source": [
    "* Run Client and Server apps."
   ]
  },
  {
   "cell_type": "code",
   "execution_count": 8,
   "id": "852baa38-2284-44f7-81e7-4106959094cd",
   "metadata": {
    "height": 115
   },
   "outputs": [
    {
     "name": "stderr",
     "output_type": "stream",
     "text": [
      "\u001b[92mINFO \u001b[0m: Starting Flower ServerApp, config: num_rounds=3, no round_timeout\n",
      "\u001b[92mINFO \u001b[0m: \n",
      "\u001b[92mINFO \u001b[0m: [INIT]\n",
      "\u001b[92mINFO \u001b[0m: Using initial global parameters provided by strategy\n",
      "\u001b[92mINFO \u001b[0m: Evaluating initial global parameters\n",
      "\u001b[92mINFO \u001b[0m: \n",
      "\u001b[92mINFO \u001b[0m: [ROUND 1]\n",
      "\u001b[92mINFO \u001b[0m: configure_fit: strategy sampled 5 clients (out of 5)\n",
      "Downloading builder script: 100%|██████████| 3.98k/3.98k [00:00<00:00, 25.6MB/s]\n",
      "Downloading readme: 100%|██████████| 6.83k/6.83k [00:00<00:00, 37.6MB/s]\n",
      "Downloading data:   0%|          | 0.00/9.91M [00:00<?, ?B/s]\n",
      "Downloading data: 100%|██████████| 9.91M/9.91M [00:00<00:00, 90.5MB/s]\n",
      "Downloading data: 100%|██████████| 28.9k/28.9k [00:00<00:00, 15.1MB/s]\n",
      "Downloading data: 100%|██████████| 1.65M/1.65M [00:00<00:00, 50.2MB/s]\n",
      "Downloading data: 100%|██████████| 4.54k/4.54k [00:00<00:00, 26.1MB/s]\n",
      "Generating train split:   0%|          | 0/60000 [00:00<?, ? examples/s]\n",
      "Generating train split:   1%|          | 426/60000 [00:00<00:14, 4018.73 examples/s]\n",
      "Generating train split:   2%|▏         | 1224/60000 [00:00<00:09, 6289.72 examples/s]\n",
      "Generating train split:   3%|▎         | 2056/60000 [00:00<00:08, 7201.31 examples/s]\n",
      "Generating train split:   5%|▍         | 2910/60000 [00:00<00:07, 7722.83 examples/s]\n",
      "Generating train split:   6%|▌         | 3742/60000 [00:00<00:07, 7931.47 examples/s]\n",
      "Generating train split:   8%|▊         | 4575/60000 [00:00<00:06, 8065.21 examples/s]\n",
      "Generating train split:   9%|▉         | 5424/60000 [00:00<00:06, 8136.13 examples/s]\n",
      "Generating train split:  10%|█         | 6254/60000 [00:00<00:06, 8181.96 examples/s]\n",
      "Generating train split:  12%|█▏        | 7090/60000 [00:00<00:06, 8234.70 examples/s]\n",
      "Generating train split:  13%|█▎        | 7955/60000 [00:01<00:06, 8359.06 examples/s]\n",
      "Generating train split:  15%|█▌        | 9190/60000 [00:01<00:06, 8306.73 examples/s]\n",
      "Generating train split:  17%|█▋        | 10449/60000 [00:01<00:05, 8333.16 examples/s]\n",
      "Generating train split:  19%|█▉        | 11296/60000 [00:01<00:05, 8366.44 examples/s]\n",
      "Generating train split:  20%|██        | 12142/60000 [00:01<00:05, 8389.94 examples/s]\n",
      "Generating train split:  22%|██▏       | 12985/60000 [00:01<00:05, 8399.95 examples/s]\n",
      "Generating train split:  24%|██▎       | 14220/60000 [00:01<00:05, 8334.33 examples/s]\n",
      "Generating train split:  25%|██▌       | 15080/60000 [00:01<00:05, 8402.79 examples/s]\n",
      "Generating train split:  27%|██▋       | 15965/60000 [00:01<00:05, 8522.78 examples/s]\n",
      "Generating train split:  29%|██▊       | 17236/60000 [00:02<00:05, 8499.84 examples/s]\n",
      "Generating train split:  30%|███       | 18101/60000 [00:02<00:04, 8536.55 examples/s]\n",
      "Generating train split:  32%|███▏      | 18984/60000 [00:02<00:04, 8615.32 examples/s]\n",
      "Generating train split:  34%|███▎      | 20249/60000 [00:02<00:04, 8545.15 examples/s]\n",
      "Generating train split:  36%|███▌      | 21518/60000 [00:02<00:04, 8512.90 examples/s]\n",
      "Generating train split:  38%|███▊      | 22807/60000 [00:02<00:04, 8533.25 examples/s]\n",
      "Generating train split:  40%|████      | 24013/60000 [00:03<00:05, 6390.37 examples/s]\n",
      "Generating train split:  42%|████▏     | 24907/60000 [00:03<00:05, 6869.81 examples/s]\n",
      "Generating train split:  43%|████▎     | 25764/60000 [00:03<00:04, 7227.74 examples/s]\n",
      "Generating train split:  44%|████▍     | 26625/60000 [00:03<00:04, 7546.85 examples/s]\n",
      "Generating train split:  46%|████▌     | 27480/60000 [00:03<00:04, 7794.69 examples/s]\n",
      "Generating train split:  47%|████▋     | 28311/60000 [00:03<00:03, 7929.42 examples/s]\n",
      "Generating train split:  49%|████▉     | 29561/60000 [00:03<00:03, 8072.50 examples/s]\n",
      "Generating train split:  51%|█████     | 30434/60000 [00:03<00:03, 8196.87 examples/s]\n",
      "Generating train split:  52%|█████▏    | 31298/60000 [00:03<00:03, 8311.03 examples/s]\n",
      "Generating train split:  54%|█████▎    | 32170/60000 [00:04<00:03, 8421.54 examples/s]\n",
      "Generating train split:  55%|█████▌    | 33026/60000 [00:04<00:03, 8458.29 examples/s]\n",
      "Generating train split:  56%|█████▋    | 33880/60000 [00:04<00:03, 8477.68 examples/s]\n",
      "Generating train split:  58%|█████▊    | 34739/60000 [00:04<00:02, 8507.11 examples/s]\n",
      "Generating train split:  60%|██████    | 36002/60000 [00:04<00:02, 8469.79 examples/s]\n",
      "Generating train split:  61%|██████▏   | 36865/60000 [00:04<00:02, 8509.96 examples/s]\n",
      "Generating train split:  63%|██████▎   | 38093/60000 [00:04<00:02, 8388.46 examples/s]\n",
      "Generating train split:  65%|██████▍   | 38971/60000 [00:04<00:02, 8488.09 examples/s]\n",
      "Generating train split:  66%|██████▋   | 39834/60000 [00:04<00:02, 8523.99 examples/s]\n",
      "Generating train split:  69%|██████▊   | 41103/60000 [00:05<00:02, 8497.27 examples/s]\n",
      "Generating train split:  70%|██████▉   | 41994/60000 [00:05<00:02, 8602.83 examples/s]\n",
      "Generating train split:  72%|███████▏  | 43270/60000 [00:05<00:01, 8566.13 examples/s]\n",
      "Generating train split:  74%|███████▎  | 44130/60000 [00:05<00:01, 8573.25 examples/s]\n",
      "Generating train split:  75%|███████▌  | 45000/60000 [00:05<00:01, 8570.69 examples/s]\n",
      "Generating train split:  76%|███████▋  | 45877/60000 [00:05<00:01, 8623.01 examples/s]\n",
      "Generating train split:  79%|███████▊  | 47125/60000 [00:05<00:01, 8507.89 examples/s]\n",
      "Generating train split:  80%|███████▉  | 47980/60000 [00:05<00:01, 8517.14 examples/s]\n",
      "Generating train split:  81%|████████▏ | 48838/60000 [00:05<00:01, 8530.94 examples/s]\n",
      "Generating train split:  83%|████████▎ | 49693/60000 [00:06<00:01, 8534.50 examples/s]\n",
      "Generating train split:  84%|████████▍ | 50554/60000 [00:06<00:01, 8551.70 examples/s]\n",
      "Generating train split:  86%|████████▌ | 51430/60000 [00:06<00:01, 8557.47 examples/s]\n",
      "Generating train split:  88%|████████▊ | 52707/60000 [00:06<00:00, 8538.65 examples/s]\n",
      "Generating train split:  90%|████████▉ | 53968/60000 [00:06<00:00, 8486.54 examples/s]\n",
      "Generating train split:  92%|█████████▏| 55202/60000 [00:06<00:00, 8397.30 examples/s]\n",
      "Generating train split:  94%|█████████▍| 56463/60000 [00:06<00:00, 8397.19 examples/s]\n",
      "Generating train split:  96%|█████████▌| 57724/60000 [00:07<00:00, 8396.54 examples/s]\n",
      "Generating train split:  98%|█████████▊| 58989/60000 [00:07<00:00, 8405.28 examples/s]\n",
      "Generating train split: 100%|██████████| 60000/60000 [00:07<00:00, 8228.36 examples/s]\n",
      "Generating test split:   0%|          | 0/10000 [00:00<?, ? examples/s]\n",
      "Generating test split:   8%|▊         | 806/10000 [00:00<00:01, 8033.17 examples/s]\n",
      "Generating test split:  16%|█▋        | 1632/10000 [00:00<00:01, 8159.44 examples/s]\n",
      "Generating test split:  25%|██▍       | 2470/10000 [00:00<00:00, 8257.21 examples/s]\n",
      "Generating test split:  33%|███▎      | 3303/10000 [00:00<00:00, 8283.15 examples/s]\n",
      "Generating test split:  46%|████▌     | 4563/10000 [00:00<00:00, 8328.17 examples/s]\n",
      "Generating test split:  54%|█████▍    | 5396/10000 [00:00<00:00, 8324.91 examples/s]\n",
      "Generating test split:  66%|██████▋   | 6644/10000 [00:00<00:00, 8318.63 examples/s]\n",
      "Generating test split:  75%|███████▍  | 7479/10000 [00:00<00:00, 8323.45 examples/s]\n",
      "Generating test split:  87%|████████▋ | 8723/10000 [00:01<00:00, 8306.83 examples/s]\n",
      "Generating test split: 100%|██████████| 10000/10000 [00:01<00:00, 8276.26 examples/s]\n",
      "\u001b[2m\u001b[36m(ClientAppActor pid=518)\u001b[0m \u001b[92mINFO \u001b[0m: client trains for 2 epochs\n",
      "\u001b[2m\u001b[36m(ClientAppActor pid=517)\u001b[0m \u001b[92mINFO \u001b[0m: client trains for 2 epochs\u001b[32m [repeated 3x across cluster] (Ray deduplicates logs by default. Set RAY_DEDUP_LOGS=0 to disable log deduplication, or see https://docs.ray.io/en/master/ray-observability/ray-logging.html#log-deduplication for more options.)\u001b[0m\n",
      "\u001b[92mINFO \u001b[0m: aggregate_fit: received 5 results and 0 failures\n",
      "\u001b[92mINFO \u001b[0m: configure_evaluate: no clients selected, skipping evaluation\n",
      "\u001b[92mINFO \u001b[0m: \n",
      "\u001b[92mINFO \u001b[0m: [ROUND 2]\n",
      "\u001b[92mINFO \u001b[0m: configure_fit: strategy sampled 5 clients (out of 5)\n",
      "\u001b[2m\u001b[36m(ClientAppActor pid=518)\u001b[0m \u001b[92mINFO \u001b[0m: client trains for 2 epochs\u001b[32m [repeated 2x across cluster]\u001b[0m\n",
      "\u001b[2m\u001b[36m(ClientAppActor pid=517)\u001b[0m \u001b[92mINFO \u001b[0m: client trains for 2 epochs\u001b[32m [repeated 3x across cluster]\u001b[0m\n",
      "\u001b[92mINFO \u001b[0m: aggregate_fit: received 5 results and 0 failures\n",
      "\u001b[92mINFO \u001b[0m: configure_evaluate: no clients selected, skipping evaluation\n",
      "\u001b[92mINFO \u001b[0m: \n",
      "\u001b[92mINFO \u001b[0m: [ROUND 3]\n"
     ]
    },
    {
     "name": "stderr",
     "output_type": "stream",
     "text": [
      "\u001b[92mINFO \u001b[0m: configure_fit: strategy sampled 5 clients (out of 5)\n",
      "\u001b[2m\u001b[36m(ClientAppActor pid=519)\u001b[0m \u001b[92mINFO \u001b[0m: client trains for 5 epochs\u001b[32m [repeated 2x across cluster]\u001b[0m\n",
      "\u001b[2m\u001b[36m(ClientAppActor pid=517)\u001b[0m \u001b[92mINFO \u001b[0m: client trains for 5 epochs\u001b[32m [repeated 3x across cluster]\u001b[0m\n",
      "\u001b[92mINFO \u001b[0m: aggregate_fit: received 5 results and 0 failures\n",
      "\u001b[92mINFO \u001b[0m: configure_evaluate: no clients selected, skipping evaluation\n",
      "\u001b[92mINFO \u001b[0m: \n",
      "\u001b[92mINFO \u001b[0m: [SUMMARY]\n",
      "\u001b[92mINFO \u001b[0m: Run finished 3 round(s) in 66.63s\n",
      "\u001b[92mINFO \u001b[0m: \n",
      "\u001b[2m\u001b[36m(ClientAppActor pid=519)\u001b[0m \u001b[92mINFO \u001b[0m: client trains for 5 epochs\n"
     ]
    }
   ],
   "source": [
    "run_simulation(server_app=server,\n",
    "               client_app=client,\n",
    "               num_supernodes=5,\n",
    "               backend_config=backend_setup\n",
    "               )"
   ]
  }
 ],
 "metadata": {
  "kernelspec": {
   "display_name": "Python 3 (ipykernel)",
   "language": "python",
   "name": "python3"
  },
  "language_info": {
   "codemirror_mode": {
    "name": "ipython",
    "version": 3
   },
   "file_extension": ".py",
   "mimetype": "text/x-python",
   "name": "python",
   "nbconvert_exporter": "python",
   "pygments_lexer": "ipython3",
   "version": "3.11.9"
  }
 },
 "nbformat": 4,
 "nbformat_minor": 5
}
